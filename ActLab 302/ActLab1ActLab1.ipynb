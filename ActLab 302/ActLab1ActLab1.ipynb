{
  "nbformat": 4,
  "nbformat_minor": 0,
  "metadata": {
    "colab": {
      "provenance": [],
      "authorship_tag": "ABX9TyNt6873hkUPZV7edG3SHMl4",
      "include_colab_link": true
    },
    "kernelspec": {
      "name": "python3",
      "display_name": "Python 3"
    },
    "language_info": {
      "name": "python"
    }
  },
  "cells": [
    {
      "cell_type": "markdown",
      "metadata": {
        "id": "view-in-github",
        "colab_type": "text"
      },
      "source": [
        "<a href=\"https://colab.research.google.com/github/JesusGP302/Progamacion-Basica-302-I/blob/main/ActLab%20302/ActLab1ActLab1.ipynb\" target=\"_parent\"><img src=\"https://colab.research.google.com/assets/colab-badge.svg\" alt=\"Open In Colab\"/></a>"
      ]
    },
    {
      "cell_type": "markdown",
      "source": [
        "Actividad de Laboratorio 1 impresión de Mensajes"
      ],
      "metadata": {
        "id": "Tl4uPzOYmR-1"
      }
    },
    {
      "cell_type": "code",
      "execution_count": null,
      "metadata": {
        "colab": {
          "base_uri": "https://localhost:8080/"
        },
        "id": "855xPmA9lqDo",
        "outputId": "e886539d-884a-4fe7-fe9e-d9c2ac526dc4"
      },
      "outputs": [
        {
          "output_type": "stream",
          "name": "stdout",
          "text": [
            "Overwriting PB302_1.cpp\n"
          ]
        }
      ],
      "source": [
        "%%writefile PB302_1.cpp\n",
        "//Programa para imprimirmir mensaje de bienvenida\n",
        "//Creado por Jesús Antonio García Pantoja\n",
        "//Fecha: 15/Septiembre/2025\n",
        "//PB302_1.cpp\n",
        "#include <iostream>\n",
        "using namespace std;\n",
        "int main()\n",
        "{\n",
        " cout<<\"Bienvenido Jesús a programación Básica en C++\\n\";\n",
        " cout<<\"Gracias por Programar en clase\";\n",
        " return 0;\n",
        "}"
      ]
    },
    {
      "cell_type": "code",
      "source": [
        "!g++ PB302_1.cpp -o PB302_1\n",
        "!./PB302_1"
      ],
      "metadata": {
        "colab": {
          "base_uri": "https://localhost:8080/"
        },
        "id": "F5FU1l_mp4pM",
        "outputId": "1593709f-9334-4837-dca9-d077c196f125"
      },
      "execution_count": null,
      "outputs": [
        {
          "output_type": "stream",
          "name": "stdout",
          "text": [
            "Bienvenido Jesús a programación Básica en C++\n",
            "Gracias por Programar en clase"
          ]
        }
      ]
    },
    {
      "cell_type": "markdown",
      "source": [
        "PB302_2.cpp programa para imprimir datos personales"
      ],
      "metadata": {
        "id": "U9tsmwbqqzU2"
      }
    },
    {
      "cell_type": "code",
      "source": [
        "%%writefile PB302_2.cpp\n",
        "//Programa para Mostra datos personales\n",
        "//Creado por Jesus Antonio Garcia Pantoja\n",
        "//Fecha:18/Septiembre/2025\n",
        "//PB302_2.cpp\n",
        "#include <iostream>\n",
        "using namespace std;\n",
        "int main()\n",
        "{\n",
        "  char nombre[10]=\"Jesus\";\n",
        "  char paterno[10]=\"Garcia\";\n",
        "  char materno[10]=\"Pantoja\";\n",
        "  int edad=15;\n",
        "  char direccion[10]=\"Plutarco\";\n",
        "  char fechanac[11]=\"18/10/2009\";\n",
        "  char ciudadnac[15]=\"Guanajuato\";\n",
        "  cout<<\"Tu Nombre Completo es:\\n\";\n",
        "  cout<<nombre<<\"\\n\";\n",
        "  cout<<paterno<<\"\\n\";\n",
        "  cout<<materno<<\"\\n\";\n",
        "  cout<<edad<<\"\\n\";\n",
        "  cout<<direccion<<\"\\n\";\n",
        "  cout<<fechanac<<\"\\n\";\n",
        "  cout<<ciudadnac<<\"\\n\";\n",
        "  return 0;\n",
        "\n",
        "}"
      ],
      "metadata": {
        "colab": {
          "base_uri": "https://localhost:8080/"
        },
        "id": "4QKhZ1Xl1tap",
        "outputId": "60158a7b-5c3d-4410-a86e-2e46c3006b3a"
      },
      "execution_count": 15,
      "outputs": [
        {
          "output_type": "stream",
          "name": "stdout",
          "text": [
            "Overwriting PB302_2.cpp\n"
          ]
        }
      ]
    },
    {
      "cell_type": "code",
      "source": [
        "!g++ PB302_2.cpp -o PB302_2.exe\n",
        "!./PB302_2.exe"
      ],
      "metadata": {
        "colab": {
          "base_uri": "https://localhost:8080/"
        },
        "id": "EyOSIlL32Bgq",
        "outputId": "ce1a3327-6c4c-4dc7-f86d-4ff809be94f8"
      },
      "execution_count": 16,
      "outputs": [
        {
          "output_type": "stream",
          "name": "stdout",
          "text": [
            "Tu Nombre Completo es:\n",
            "Jesus\n",
            "Garcia\n",
            "Pantoja\n",
            "15\n",
            "Plutarco\n",
            "18/10/2009\n",
            "Guanajuato\n"
          ]
        }
      ]
    }
  ]
}